{
 "cells": [
  {
   "cell_type": "raw",
   "source": [
    "# Homework #1: Simple Linear Regreesion"
   ],
   "metadata": {
    "collapsed": false
   }
  },
  {
   "cell_type": "markdown",
   "id": "3360909c-5a85-4f44-9888-b131e9df961f",
   "metadata": {},
   "source": [
    "## Background\n",
    "The New York Times has published data for case counts and deaths for each county and state across the US. They also have a few additional datasets, one of which is a July 2020 survey of how regularly people in each county wore masks. This data comes for an online survey of about 250,000 responses.\n",
    "\n",
    "You've been tasked with looking at the relationship between reported mask usage and case counts per capita (at the county level) for the state of Utah. This analysis is with real data so expect some level of cleaning and manipulation.\n",
    "\n",
    "Data and descriptions are available at their GitHub page (https://github.com/nytimes/covid-19-data) but for consistency I've uploaded the relevant ones to the Canvas page under \"Datasets\".\n",
    "\n",
    "Relevant Datasets:\n",
    "* `county_census.csv`: Population estimates in 2019 by county\n",
    "* `mask-use-by-county.csv`: Reported mask usage taken from the NY Time July 2020 survey\n",
    "* `us-counties.csv`: Case and death county by county\n"
   ]
  },
  {
   "cell_type": "markdown",
   "id": "31581d89-9816-4f30-a486-e809af088bd6",
   "metadata": {},
   "source": [
    "### Task 1\n",
    "First, you'll need to read in the three datasets and `merge` them together. The `SimpleLinearRegression.ipynb` file may be a useful reference."
   ]
  },
  {
   "cell_type": "code",
   "execution_count": 14,
   "id": "3102295e-57f0-4b93-95e2-d69a2cb27299",
   "metadata": {},
   "outputs": [
    {
     "name": "stdout",
     "output_type": "stream",
     "text": [
      "        county state   fips   cases  deaths  population  NEVER  RARELY  SOMETIMES  FREQUENTLY  ALWAYS\n",
      "0       Beaver  Utah  49001    1609      16        6710  0.099   0.026      0.271       0.283   0.320\n",
      "1    Box Elder  Utah  49003   14100     124       56046  0.084   0.116      0.111       0.270   0.419\n",
      "2        Cache  Utah  49005   37192     109      128289  0.090   0.108      0.080       0.310   0.411\n",
      "3       Carbon  Utah  49007    5234      46       20463  0.107   0.134      0.114       0.293   0.353\n",
      "4      Daggett  Utah  49009     151       0         950  0.091   0.296      0.102       0.330   0.181\n",
      "5        Davis  Utah  49011  100743     403      355481  0.035   0.055      0.077       0.314   0.518\n",
      "6     Duchesne  Utah  49013    4371      27       19938  0.051   0.259      0.033       0.469   0.188\n",
      "7        Emery  Utah  49015    2472      28       10012  0.122   0.109      0.106       0.239   0.424\n",
      "8     Garfield  Utah  49017     929      16        5051  0.062   0.056      0.232       0.264   0.386\n",
      "9        Grand  Utah  49019    2322       6        9754  0.056   0.111      0.098       0.176   0.558\n",
      "10        Iron  Utah  49021   14749      91       54839  0.065   0.036      0.220       0.262   0.417\n",
      "11        Juab  Utah  49023    2894      25       12017  0.335   0.023      0.079       0.193   0.369\n",
      "12        Kane  Utah  49025    1343      15        7886  0.061   0.041      0.226       0.227   0.445\n",
      "13     Millard  Utah  49027    3272      35       13188  0.432   0.023      0.088       0.171   0.286\n",
      "14      Morgan  Utah  49029    2898      15       12124  0.092   0.155      0.053       0.370   0.330\n",
      "15       Piute  Utah  49031     304       7        1479  0.097   0.061      0.266       0.300   0.276\n",
      "16        Rich  Utah  49033     339       0        2483  0.077   0.113      0.062       0.327   0.421\n",
      "17   Salt Lake  Utah  49035  344452    1632     1160437  0.028   0.032      0.094       0.202   0.644\n",
      "18    San Juan  Utah  49037    3984      48       15308  0.040   0.064      0.042       0.210   0.644\n",
      "19     Sanpete  Utah  49039    8360      56       30939  0.107   0.043      0.104       0.273   0.473\n",
      "20      Sevier  Utah  49041    5444      30       21620  0.152   0.096      0.171       0.300   0.282\n",
      "21      Summit  Utah  49043   13673      25       42145  0.018   0.100      0.054       0.177   0.651\n",
      "22      Tooele  Utah  49045   21437     102       72259  0.002   0.114      0.141       0.212   0.532\n",
      "23      Uintah  Utah  49047    8051      71       35734  0.121   0.269      0.046       0.389   0.175\n",
      "24        Utah  Utah  49049  202150     790      636235  0.068   0.035      0.195       0.244   0.458\n",
      "25     Wasatch  Utah  49051   10755      35       34091  0.039   0.063      0.056       0.254   0.588\n",
      "26  Washington  Utah  49053   44949     463      177556  0.034   0.056      0.123       0.269   0.518\n",
      "27       Wayne  Utah  49055     442       0        2711  0.068   0.129      0.114       0.269   0.420\n",
      "28       Weber  Utah  49057   71335     440      260213  0.066   0.089      0.072       0.287   0.486\n"
     ]
    }
   ],
   "source": [
    "import pandas as pd\n",
    "import matplotlib.pyplot as plt\n",
    "%matplotlib inline\n",
    "import statsmodels.api as sm\n",
    "import statsmodels.formula.api as smf\n",
    "import numpy as np\n",
    "from math import sqrt\n",
    "\n",
    "import os\n",
    "import sys\n",
    "from pathlib import Path\n",
    "\n",
    "cur_dir = Path(os.getcwd()).parent\n",
    "original_path = os.getcwd()\n",
    "\n",
    "downloads_path = str(Path.home() / \"Downloads\")\n",
    "os.chdir(downloads_path)\n",
    "\n",
    "df1 = pd.read_csv('us-counties.csv', index_col=False)\n",
    "\n",
    "df1 = df1[df1['state'] == 'Utah']\n",
    "df1.reset_index(drop=True, inplace=True)\n",
    "df1 = df1[df1['fips'].notna()]\n",
    "df1['fips'] = df1['fips'].astype(int)\n",
    "df1['deaths'] = df1['deaths'].astype(int)\n",
    "\n",
    "df2 = pd.read_csv('mask-use-by-county.csv', index_col=False)\n",
    "\n",
    "# print(df2['COUNTYFP'].duplicated().any())\n",
    "df2.rename(columns={\n",
    "    'COUNTYFP': 'fips'\n",
    "}, inplace=True)\n",
    "\n",
    "df3 = pd.read_csv('county_census.csv', index_col=False)\n",
    "\n",
    "df3 = df3[['POPESTIMATE2019', 'FIPS']]\n",
    "\n",
    "df3.rename(columns={\n",
    "    'POPESTIMATE2019': 'population',\n",
    "    'FIPS': 'fips'\n",
    "}, inplace=True)\n",
    "\n",
    "# dataframes = [df1, df2, df3]\n",
    "# for dfs in dataframes:\n",
    "#     print(dfs.head(10).to_string())\n",
    "\n",
    "county_info_df = pd.merge(df1,\n",
    "                          df3,\n",
    "                          on='fips',\n",
    "                          how='left')\n",
    "\n",
    "county_info_df = county_info_df[['county', 'state', 'fips', 'cases', 'deaths', 'population']]\n",
    "# print(county_info_df.to_string())\n",
    "\n",
    "county_mask_df = pd.merge(county_info_df,\n",
    "                          df2,\n",
    "                          on='fips',\n",
    "                          how='left')\n",
    "print(county_mask_df.to_string())"
   ]
  },
  {
   "cell_type": "markdown",
   "id": "bc773b77-2919-49a8-b41b-cb317d483c92",
   "metadata": {},
   "source": [
    "### Task 2\n",
    "Since we're only interested in Utah, create a new data frame that contains only the merged data for the state of Utah. If you need to do some Googling, I'd suggest searching \"conditional subset pandas dataframe\"."
   ]
  },
  {
   "cell_type": "code",
   "execution_count": 15,
   "id": "99f7c02f-84c5-4c3d-a462-4f8cda7704e7",
   "metadata": {},
   "outputs": [],
   "source": [
    "### Accidently did that in Task 1"
   ]
  },
  {
   "cell_type": "markdown",
   "id": "9c0de86a-2027-4b7e-83f6-736c127fadf0",
   "metadata": {},
   "source": [
    "### Task 3\n",
    "The case count data is just an absolute cumulative count, meaning that larger counties unsurprisingly have much larger case counts. This may skew our results since we're just interested in the relative relationship between reported mask usage and cases. Create a new variable that is a ratio of `cases/population`. Note: the name of the population variable is `POPESTIMATE2019`."
   ]
  },
  {
   "cell_type": "code",
   "execution_count": 16,
   "id": "429ddb7f-9a7d-4fda-a10c-48c7ba7ae531",
   "metadata": {},
   "outputs": [
    {
     "name": "stdout",
     "output_type": "stream",
     "text": [
      "        county state   fips   cases  deaths  population  NEVER  RARELY  SOMETIMES  FREQUENTLY  ALWAYS  cases_per_capita\n",
      "0       Beaver  Utah  49001    1609      16        6710  0.099   0.026      0.271       0.283   0.320          0.239791\n",
      "1    Box Elder  Utah  49003   14100     124       56046  0.084   0.116      0.111       0.270   0.419          0.251579\n",
      "2        Cache  Utah  49005   37192     109      128289  0.090   0.108      0.080       0.310   0.411          0.289908\n",
      "3       Carbon  Utah  49007    5234      46       20463  0.107   0.134      0.114       0.293   0.353          0.255779\n",
      "4      Daggett  Utah  49009     151       0         950  0.091   0.296      0.102       0.330   0.181          0.158947\n",
      "5        Davis  Utah  49011  100743     403      355481  0.035   0.055      0.077       0.314   0.518          0.283399\n",
      "6     Duchesne  Utah  49013    4371      27       19938  0.051   0.259      0.033       0.469   0.188          0.219230\n",
      "7        Emery  Utah  49015    2472      28       10012  0.122   0.109      0.106       0.239   0.424          0.246904\n",
      "8     Garfield  Utah  49017     929      16        5051  0.062   0.056      0.232       0.264   0.386          0.183924\n",
      "9        Grand  Utah  49019    2322       6        9754  0.056   0.111      0.098       0.176   0.558          0.238056\n",
      "10        Iron  Utah  49021   14749      91       54839  0.065   0.036      0.220       0.262   0.417          0.268951\n",
      "11        Juab  Utah  49023    2894      25       12017  0.335   0.023      0.079       0.193   0.369          0.240825\n",
      "12        Kane  Utah  49025    1343      15        7886  0.061   0.041      0.226       0.227   0.445          0.170302\n",
      "13     Millard  Utah  49027    3272      35       13188  0.432   0.023      0.088       0.171   0.286          0.248104\n",
      "14      Morgan  Utah  49029    2898      15       12124  0.092   0.155      0.053       0.370   0.330          0.239030\n",
      "15       Piute  Utah  49031     304       7        1479  0.097   0.061      0.266       0.300   0.276          0.205544\n",
      "16        Rich  Utah  49033     339       0        2483  0.077   0.113      0.062       0.327   0.421          0.136528\n",
      "17   Salt Lake  Utah  49035  344452    1632     1160437  0.028   0.032      0.094       0.202   0.644          0.296830\n",
      "18    San Juan  Utah  49037    3984      48       15308  0.040   0.064      0.042       0.210   0.644          0.260256\n",
      "19     Sanpete  Utah  49039    8360      56       30939  0.107   0.043      0.104       0.273   0.473          0.270209\n",
      "20      Sevier  Utah  49041    5444      30       21620  0.152   0.096      0.171       0.300   0.282          0.251804\n",
      "21      Summit  Utah  49043   13673      25       42145  0.018   0.100      0.054       0.177   0.651          0.324428\n",
      "22      Tooele  Utah  49045   21437     102       72259  0.002   0.114      0.141       0.212   0.532          0.296669\n",
      "23      Uintah  Utah  49047    8051      71       35734  0.121   0.269      0.046       0.389   0.175          0.225304\n",
      "24        Utah  Utah  49049  202150     790      636235  0.068   0.035      0.195       0.244   0.458          0.317729\n",
      "25     Wasatch  Utah  49051   10755      35       34091  0.039   0.063      0.056       0.254   0.588          0.315479\n",
      "26  Washington  Utah  49053   44949     463      177556  0.034   0.056      0.123       0.269   0.518          0.253154\n",
      "27       Wayne  Utah  49055     442       0        2711  0.068   0.129      0.114       0.269   0.420          0.163039\n",
      "28       Weber  Utah  49057   71335     440      260213  0.066   0.089      0.072       0.287   0.486          0.274141\n"
     ]
    }
   ],
   "source": [
    "county_mask_df['cases_per_capita'] = county_mask_df['cases'] / county_mask_df['population']\n",
    "print(county_mask_df.to_string())"
   ]
  },
  {
   "cell_type": "markdown",
   "id": "ca9ff1d0-0180-4775-b052-8cc7837d7535",
   "metadata": {},
   "source": [
    "### Task 4\n",
    "Finally, run a regression where our **predictor variable** is the proportion of people that responed \"Always\" to the question of \"*How often do you wear a mask in public when you expect to be within six feet of another person?*\" and the **response variable** is your newly created `cases_per_capita` variable."
   ]
  },
  {
   "cell_type": "code",
   "execution_count": 17,
   "outputs": [
    {
     "name": "stdout",
     "output_type": "stream",
     "text": [
      "                            OLS Regression Results                            \n",
      "==============================================================================\n",
      "Dep. Variable:       cases_per_capita   R-squared:                       0.284\n",
      "Model:                            OLS   Adj. R-squared:                  0.258\n",
      "Method:                 Least Squares   F-statistic:                     10.72\n",
      "Date:                Wed, 17 May 2023   Prob (F-statistic):            0.00290\n",
      "Time:                        12:27:59   Log-Likelihood:                 51.958\n",
      "No. Observations:                  29   AIC:                            -99.92\n",
      "Df Residuals:                      27   BIC:                            -97.18\n",
      "Df Model:                           1                                         \n",
      "Covariance Type:            nonrobust                                         \n",
      "==============================================================================\n",
      "                 coef    std err          t      P>|t|      [0.025      0.975]\n",
      "------------------------------------------------------------------------------\n",
      "Intercept      0.1642      0.026      6.300      0.000       0.111       0.218\n",
      "ALWAYS         0.1941      0.059      3.275      0.003       0.072       0.316\n",
      "==============================================================================\n",
      "Omnibus:                        7.740   Durbin-Watson:                   1.763\n",
      "Prob(Omnibus):                  0.021   Jarque-Bera (JB):                6.245\n",
      "Skew:                          -1.098   Prob(JB):                       0.0440\n",
      "Kurtosis:                       3.585   Cond. No.                         9.00\n",
      "==============================================================================\n",
      "\n",
      "Notes:\n",
      "[1] Standard Errors assume that the covariance matrix of the errors is correctly specified.\n"
     ]
    },
    {
     "data": {
      "text/plain": "<Figure size 640x480 with 1 Axes>",
      "image/png": "[encoded data removed]"
     },
     "metadata": {},
     "output_type": "display_data"
    }
   ],
   "source": [
    "results = smf.ols('cases_per_capita ~ ALWAYS', data=county_mask_df).fit()\n",
    "print(results.summary())\n",
    "\n",
    "fig = sm.graphics.abline_plot(model_results=results)\n",
    "ax = fig.axes[0]\n",
    "ax.scatter(county_mask_df['ALWAYS'], county_mask_df['cases_per_capita'])\n",
    "plt.show()"
   ],
   "metadata": {
    "collapsed": false
   }
  },
  {
   "cell_type": "code",
   "execution_count": 20,
   "outputs": [
    {
     "name": "stdout",
     "output_type": "stream",
     "text": [
      "Beta_1  0.19412930955212193\n",
      "Beta_0  0.16423127146438316\n"
     ]
    }
   ],
   "source": [
    "xbar = np.mean(county_mask_df['ALWAYS'])\n",
    "ybar = np.mean(county_mask_df['cases_per_capita'])\n",
    "numerator = np.sum((county_mask_df['ALWAYS'] - xbar)*(county_mask_df['cases_per_capita'] - ybar))\n",
    "denominator = np.sum((county_mask_df['ALWAYS'] - xbar)**2)\n",
    "\n",
    "beta_1 = numerator/denominator\n",
    "print('Beta_1  ' + str(beta_1))\n",
    "beta_0 = ybar - beta_1*xbar\n",
    "print('Beta_0  ' + str(beta_0))"
   ],
   "metadata": {
    "collapsed": false
   }
  },
  {
   "cell_type": "markdown",
   "id": "a3d00e0d-8f19-4190-93c0-6f20e655766d",
   "metadata": {},
   "source": [
    "### Questions\n",
    "\n",
    "1. Are the coefficient estimate significant? What evidence is there to support your answer?\n",
    "\n",
    "2. What proportion of variance in the response is explained by this model?\n",
    "\n",
    "3. How would you interpret the estimates of the coefficient?\n",
    "\n",
    "4. Does your model make sense intuitively? What could explain this result?\n",
    "\n"
   ]
  },
  {
   "cell_type": "code",
   "execution_count": null,
   "outputs": [],
   "source": [
    "\n",
    "# 1. Are the coefficient estimates significant? What evidence is there to support your answer?\n",
    "#    - Yes, the coefficient estimates are significant. The p-values associated with the coefficients for the \"Intercept\" is less than 0.001, and the p-value for the \"ALWAYS\" variable is 0.003. Since both p-values are below the conventional significance level of 0.05, we have evidence to reject the null hypothesis.\n",
    "#\n",
    "# 2. What proportion of variance in the response is explained by this model?\n",
    "#    - The R-squared value is provided as 0.284. Approximately 28.4% of the variance in the response variable (cases_per_capita) is explained by the predictor variable (ALWAYS).\n",
    "#\n",
    "# 3. How would you interpret the estimates of the coefficient?\n",
    "#    - The \"Intercept\" coefficient estimate of 0.1642 represents the expected value of the response variable (cases_per_capita) when all the independent variables are set to zero. In this case, it suggests that even with no value of the \"ALWAYS\" variable, there would still be a positive baseline effect of 0.1642 on the cases_per_capita.\n",
    "#    - The \"ALWAYS\" coefficient estimate of 0.1941 indicates the expected change in the cases_per_capita for each unit increase in the \"ALWAYS\" variable, while holding other variables constant. Therefore, for each additional unit increase in the \"ALWAYS\" variable, we expect an average increase of 0.1941 in the cases_per_capita.\n",
    "#\n",
    "# 4. Does your model make sense intuitively? What could explain this result?\n",
    "#    - Based on the information provided, the \"ALWAYS\" variable seems to have a positive effect on the cases_per_capita. This suggests that there is a relationship between the always wearing a mask and the incidence of cases per capita. Since we know that the Always variable is suggestive of that percentage of the population wearing a mask we see that they attribute to increase in covid 19 rates. To better understand this we should run a multivariable regression to see how the other survey categories apply to the covid 19 rates for each county.\n"
   ],
   "metadata": {
    "collapsed": false,
    "pycharm": {
     "is_executing": true
    }
   }
  }
 ],
 "metadata": {
  "kernelspec": {
   "display_name": "Python 3 (ipykernel)",
   "language": "python",
   "name": "python3"
  },
  "language_info": {
   "codemirror_mode": {
    "name": "ipython",
    "version": 3
   },
   "file_extension": ".py",
   "mimetype": "text/x-python",
   "name": "python",
   "nbconvert_exporter": "python",
   "pygments_lexer": "ipython3",
   "version": "3.8.8"
  }
 },
 "nbformat": 4,
 "nbformat_minor": 5
}
