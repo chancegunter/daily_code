{
 "cells": [
  {
   "cell_type": "code",
   "execution_count": 3,
   "id": "805474ba-f2fb-49a6-bfa7-8bda0c9e6e15",
   "metadata": {},
   "outputs": [
    {
     "data": {
      "text/plain": "'C:\\\\Random_Chance'"
     },
     "execution_count": 3,
     "metadata": {},
     "output_type": "execute_result"
    }
   ],
   "source": [
    "import pandas as pd\n",
    "import matplotlib.pyplot as plt\n",
    "%matplotlib inline\n",
    "import statsmodels.api as sm\n",
    "import statsmodels.formula.api as smf\n",
    "import numpy as np\n",
    "from sklearn.datasets import load_diabetes\n",
    "from math import sqrt\n",
    "\n",
    "import os\n",
    "os.getcwd()"
   ]
  },
  {
   "cell_type": "markdown",
   "id": "a9af6cd5-dd02-45d8-a6cc-04d92a7c1ddb",
   "metadata": {},
   "source": [
    "## Let's start with a simple example"
   ]
  },
  {
   "cell_type": "code",
   "execution_count": 4,
   "id": "3f37ad12-4a93-413d-9978-d94845049b46",
   "metadata": {},
   "outputs": [
    {
     "name": "stdout",
     "output_type": "stream",
     "text": [
      ".. _diabetes_dataset:\n",
      "\n",
      "Diabetes dataset\n",
      "----------------\n",
      "\n",
      "Ten baseline variables, age, sex, body mass index, average blood\n",
      "pressure, and six blood serum measurements were obtained for each of n =\n",
      "442 diabetes patients, as well as the response of interest, a\n",
      "quantitative measure of disease progression one year after baseline.\n",
      "\n",
      "**Data Set Characteristics:**\n",
      "\n",
      "  :Number of Instances: 442\n",
      "\n",
      "  :Number of Attributes: First 10 columns are numeric predictive values\n",
      "\n",
      "  :Target: Column 11 is a quantitative measure of disease progression one year after baseline\n",
      "\n",
      "  :Attribute Information:\n",
      "      - age     age in years\n",
      "      - sex\n",
      "      - bmi     body mass index\n",
      "      - bp      average blood pressure\n",
      "      - s1      tc, total serum cholesterol\n",
      "      - s2      ldl, low-density lipoproteins\n",
      "      - s3      hdl, high-density lipoproteins\n",
      "      - s4      tch, total cholesterol / HDL\n",
      "      - s5      ltg, possibly log of serum triglycerides level\n",
      "      - s6      glu, blood sugar level\n",
      "\n",
      "Note: Each of these 10 feature variables have been mean centered and scaled by the standard deviation times the square root of `n_samples` (i.e. the sum of squares of each column totals 1).\n",
      "\n",
      "Source URL:\n",
      "https://www4.stat.ncsu.edu/~boos/var.select/diabetes.html\n",
      "\n",
      "For more information see:\n",
      "Bradley Efron, Trevor Hastie, Iain Johnstone and Robert Tibshirani (2004) \"Least Angle Regression,\" Annals of Statistics (with discussion), 407-499.\n",
      "(https://web.stanford.edu/~hastie/Papers/LARS/LeastAngle_2002.pdf)\n",
      "\n"
     ]
    }
   ],
   "source": [
    "diabetes = load_diabetes(as_frame=True)\n",
    "print(diabetes.DESCR)"
   ]
  },
  {
   "cell_type": "code",
   "execution_count": 5,
   "id": "8d70e8f1-de84-4a55-8e54-57951e35c398",
   "metadata": {},
   "outputs": [
    {
     "data": {
      "text/plain": "        age       sex       bmi        bp        s1        s2        s3  \\\n0  0.038076  0.050680  0.061696  0.021872 -0.044223 -0.034821 -0.043401   \n1 -0.001882 -0.044642 -0.051474 -0.026328 -0.008449 -0.019163  0.074412   \n2  0.085299  0.050680  0.044451 -0.005670 -0.045599 -0.034194 -0.032356   \n3 -0.089063 -0.044642 -0.011595 -0.036656  0.012191  0.024991 -0.036038   \n4  0.005383 -0.044642 -0.036385  0.021872  0.003935  0.015596  0.008142   \n\n         s4        s5        s6  target  \n0 -0.002592  0.019907 -0.017646   151.0  \n1 -0.039493 -0.068332 -0.092204    75.0  \n2 -0.002592  0.002861 -0.025930   141.0  \n3  0.034309  0.022688 -0.009362   206.0  \n4 -0.002592 -0.031988 -0.046641   135.0  ",
      "text/html": "<div>\n<style scoped>\n    .dataframe tbody tr th:only-of-type {\n        vertical-align: middle;\n    }\n\n    .dataframe tbody tr th {\n        vertical-align: top;\n    }\n\n    .dataframe thead th {\n        text-align: right;\n    }\n</style>\n<table border=\"1\" class=\"dataframe\">\n  <thead>\n    <tr style=\"text-align: right;\">\n      <th></th>\n      <th>age</th>\n      <th>sex</th>\n      <th>bmi</th>\n      <th>bp</th>\n      <th>s1</th>\n      <th>s2</th>\n      <th>s3</th>\n      <th>s4</th>\n      <th>s5</th>\n      <th>s6</th>\n      <th>target</th>\n    </tr>\n  </thead>\n  <tbody>\n    <tr>\n      <th>0</th>\n      <td>0.038076</td>\n      <td>0.050680</td>\n      <td>0.061696</td>\n      <td>0.021872</td>\n      <td>-0.044223</td>\n      <td>-0.034821</td>\n      <td>-0.043401</td>\n      <td>-0.002592</td>\n      <td>0.019907</td>\n      <td>-0.017646</td>\n      <td>151.0</td>\n    </tr>\n    <tr>\n      <th>1</th>\n      <td>-0.001882</td>\n      <td>-0.044642</td>\n      <td>-0.051474</td>\n      <td>-0.026328</td>\n      <td>-0.008449</td>\n      <td>-0.019163</td>\n      <td>0.074412</td>\n      <td>-0.039493</td>\n      <td>-0.068332</td>\n      <td>-0.092204</td>\n      <td>75.0</td>\n    </tr>\n    <tr>\n      <th>2</th>\n      <td>0.085299</td>\n      <td>0.050680</td>\n      <td>0.044451</td>\n      <td>-0.005670</td>\n      <td>-0.045599</td>\n      <td>-0.034194</td>\n      <td>-0.032356</td>\n      <td>-0.002592</td>\n      <td>0.002861</td>\n      <td>-0.025930</td>\n      <td>141.0</td>\n    </tr>\n    <tr>\n      <th>3</th>\n      <td>-0.089063</td>\n      <td>-0.044642</td>\n      <td>-0.011595</td>\n      <td>-0.036656</td>\n      <td>0.012191</td>\n      <td>0.024991</td>\n      <td>-0.036038</td>\n      <td>0.034309</td>\n      <td>0.022688</td>\n      <td>-0.009362</td>\n      <td>206.0</td>\n    </tr>\n    <tr>\n      <th>4</th>\n      <td>0.005383</td>\n      <td>-0.044642</td>\n      <td>-0.036385</td>\n      <td>0.021872</td>\n      <td>0.003935</td>\n      <td>0.015596</td>\n      <td>0.008142</td>\n      <td>-0.002592</td>\n      <td>-0.031988</td>\n      <td>-0.046641</td>\n      <td>135.0</td>\n    </tr>\n  </tbody>\n</table>\n</div>"
     },
     "execution_count": 5,
     "metadata": {},
     "output_type": "execute_result"
    }
   ],
   "source": [
    "diabetes_df = diabetes.frame\n",
    "diabetes_df.head()"
   ]
  },
  {
   "cell_type": "code",
   "execution_count": 6,
   "id": "f60f32dc-6e29-4c77-bd31-c730787daf4d",
   "metadata": {},
   "outputs": [
    {
     "data": {
      "text/plain": "<class 'statsmodels.iolib.summary.Summary'>\n\"\"\"\n                            OLS Regression Results                            \n==============================================================================\nDep. Variable:                 target   R-squared:                       0.344\nModel:                            OLS   Adj. R-squared:                  0.342\nMethod:                 Least Squares   F-statistic:                     230.7\nDate:                Wed, 17 May 2023   Prob (F-statistic):           3.47e-42\nTime:                        11:06:39   Log-Likelihood:                -2454.0\nNo. Observations:                 442   AIC:                             4912.\nDf Residuals:                     440   BIC:                             4920.\nDf Model:                           1                                         \nCovariance Type:            nonrobust                                         \n==============================================================================\n                 coef    std err          t      P>|t|      [0.025      0.975]\n------------------------------------------------------------------------------\nIntercept    152.1335      2.974     51.162      0.000     146.289     157.978\nbmi          949.4353     62.515     15.187      0.000     826.570    1072.301\n==============================================================================\nOmnibus:                       11.674   Durbin-Watson:                   1.848\nProb(Omnibus):                  0.003   Jarque-Bera (JB):                7.310\nSkew:                           0.156   Prob(JB):                       0.0259\nKurtosis:                       2.453   Cond. No.                         21.0\n==============================================================================\n\nNotes:\n[1] Standard Errors assume that the covariance matrix of the errors is correctly specified.\n\"\"\"",
      "text/html": "<table class=\"simpletable\">\n<caption>OLS Regression Results</caption>\n<tr>\n  <th>Dep. Variable:</th>         <td>target</td>      <th>  R-squared:         </th> <td>   0.344</td>\n</tr>\n<tr>\n  <th>Model:</th>                   <td>OLS</td>       <th>  Adj. R-squared:    </th> <td>   0.342</td>\n</tr>\n<tr>\n  <th>Method:</th>             <td>Least Squares</td>  <th>  F-statistic:       </th> <td>   230.7</td>\n</tr>\n<tr>\n  <th>Date:</th>             <td>Wed, 17 May 2023</td> <th>  Prob (F-statistic):</th> <td>3.47e-42</td>\n</tr>\n<tr>\n  <th>Time:</th>                 <td>11:06:39</td>     <th>  Log-Likelihood:    </th> <td> -2454.0</td>\n</tr>\n<tr>\n  <th>No. Observations:</th>      <td>   442</td>      <th>  AIC:               </th> <td>   4912.</td>\n</tr>\n<tr>\n  <th>Df Residuals:</th>          <td>   440</td>      <th>  BIC:               </th> <td>   4920.</td>\n</tr>\n<tr>\n  <th>Df Model:</th>              <td>     1</td>      <th>                     </th>     <td> </td>   \n</tr>\n<tr>\n  <th>Covariance Type:</th>      <td>nonrobust</td>    <th>                     </th>     <td> </td>   \n</tr>\n</table>\n<table class=\"simpletable\">\n<tr>\n      <td></td>         <th>coef</th>     <th>std err</th>      <th>t</th>      <th>P>|t|</th>  <th>[0.025</th>    <th>0.975]</th>  \n</tr>\n<tr>\n  <th>Intercept</th> <td>  152.1335</td> <td>    2.974</td> <td>   51.162</td> <td> 0.000</td> <td>  146.289</td> <td>  157.978</td>\n</tr>\n<tr>\n  <th>bmi</th>       <td>  949.4353</td> <td>   62.515</td> <td>   15.187</td> <td> 0.000</td> <td>  826.570</td> <td> 1072.301</td>\n</tr>\n</table>\n<table class=\"simpletable\">\n<tr>\n  <th>Omnibus:</th>       <td>11.674</td> <th>  Durbin-Watson:     </th> <td>   1.848</td>\n</tr>\n<tr>\n  <th>Prob(Omnibus):</th> <td> 0.003</td> <th>  Jarque-Bera (JB):  </th> <td>   7.310</td>\n</tr>\n<tr>\n  <th>Skew:</th>          <td> 0.156</td> <th>  Prob(JB):          </th> <td>  0.0259</td>\n</tr>\n<tr>\n  <th>Kurtosis:</th>      <td> 2.453</td> <th>  Cond. No.          </th> <td>    21.0</td>\n</tr>\n</table><br/><br/>Notes:<br/>[1] Standard Errors assume that the covariance matrix of the errors is correctly specified."
     },
     "execution_count": 6,
     "metadata": {},
     "output_type": "execute_result"
    }
   ],
   "source": [
    "results = smf.ols('target ~ bmi', data=diabetes_df).fit()\n",
    "results.summary()"
   ]
  },
  {
   "cell_type": "code",
   "execution_count": 7,
   "id": "6b4c8e24-6295-4c2f-88b4-ead5eb6839f8",
   "metadata": {},
   "outputs": [
    {
     "data": {
      "text/plain": "<function matplotlib.pyplot.show(close=None, block=None)>"
     },
     "execution_count": 7,
     "metadata": {},
     "output_type": "execute_result"
    },
    {
     "data": {
      "text/plain": "<Figure size 640x480 with 1 Axes>",
      "image/png": "[encoded data removed]"
     },
     "metadata": {},
     "output_type": "display_data"
    }
   ],
   "source": [
    "fig = sm.graphics.abline_plot(model_results=results)\n",
    "ax = fig.axes[0]\n",
    "ax.scatter(diabetes_df['bmi'], diabetes_df['target'])\n",
    "plt.show"
   ]
  },
  {
   "cell_type": "markdown",
   "id": "32802e8a-46c1-44d6-8a97-d11c6d415076",
   "metadata": {},
   "source": [
    "## What if we use simulated data?"
   ]
  },
  {
   "cell_type": "code",
   "execution_count": 8,
   "id": "14253e36-5de5-400c-a2ef-87f9e3dd6ae3",
   "metadata": {},
   "outputs": [
    {
     "name": "stdout",
     "output_type": "stream",
     "text": [
      "[11  6  6 12 19 11  8  4  6 23 23 20 12 16 18 23 24 24  1 22 14 12  6 16\n",
      " 12 18  6  2  2 24 20  7 22 22  9  0 20 17 20  6 19  1  2  1  5 14 12 14\n",
      "  7 19]\n"
     ]
    }
   ],
   "source": [
    "beta_1 = 5\n",
    "beta_0 = 2\n",
    "\n",
    "x = np.random.randint(low=0, high=25, size=(50,))\n",
    "print(x)"
   ]
  },
  {
   "cell_type": "code",
   "execution_count": 9,
   "id": "3aec69d7-248c-494c-94a2-f12e756d68c8",
   "metadata": {},
   "outputs": [
    {
     "name": "stdout",
     "output_type": "stream",
     "text": [
      "[  6.25198919   6.13863412  -0.15655302   4.72462057   6.45768207\n",
      "  -1.04344804  -7.11722947   3.28496999   4.4561303    3.16782642\n",
      "   1.68739742  -4.51073031  -4.04888965   0.77262315   8.70653457\n",
      "   5.34355628 -14.65710346  -1.91714789  -0.21364879   4.34432684\n",
      "  -2.27059479  -4.35080093  -1.03907263  -4.1132147   -2.57450751\n",
      "  -6.21834476   2.57615579   7.33931908   2.03652318   5.3985397\n",
      "   3.58104439  -9.83877191  -1.75445858  -0.77120688  -4.32092348\n",
      "  -3.29637102   3.09920415 -14.6469301   -3.85805193   2.2036872\n",
      "  -8.67161202   4.76434748  -0.5103509   10.38575845  -6.41287188\n",
      "  -1.24445675   1.7949151    7.62949164  -0.51187403  -2.4334305 ]\n"
     ]
    }
   ],
   "source": [
    "epsilon = np.random.normal(scale = 5.0, size = (50,))\n",
    "print(epsilon)"
   ]
  },
  {
   "cell_type": "code",
   "execution_count": 10,
   "id": "80660362-4e58-4bf2-b22d-bcbdfa97c727",
   "metadata": {},
   "outputs": [
    {
     "name": "stdout",
     "output_type": "stream",
     "text": [
      "[ 63.25198919  38.13863412  31.84344698  66.72462057 103.45768207\n",
      "  55.95655196  34.88277053  25.28496999  36.4561303  120.16782642\n",
      " 118.68739742  97.48926969  57.95111035  82.77262315 100.70653457\n",
      " 122.34355628 107.34289654 120.08285211   6.78635121 116.34432684\n",
      "  69.72940521  57.64919907  30.96092737  77.8867853   59.42549249\n",
      "  85.78165524  34.57615579  19.33931908  14.03652318 127.3985397\n",
      " 105.58104439  27.16122809 110.24554142 111.22879312  42.67907652\n",
      "  -1.29637102 105.09920415  72.3530699   98.14194807  34.2036872\n",
      "  88.32838798  11.76434748  11.4896491   17.38575845  20.58712812\n",
      "  70.75554325  63.7949151   79.62949164  36.48812597  94.5665695 ]\n"
     ]
    }
   ],
   "source": [
    "# this is the linear regression equation\n",
    "y = beta_0 + beta_1*x + epsilon\n",
    "print(y)"
   ]
  },
  {
   "cell_type": "code",
   "execution_count": 11,
   "id": "303e03bc-913e-4478-92d8-68d4646a175a",
   "metadata": {},
   "outputs": [
    {
     "data": {
      "text/plain": "    x           y\n0  11   63.251989\n1   6   38.138634\n2   6   31.843447\n3  12   66.724621\n4  19  103.457682",
      "text/html": "<div>\n<style scoped>\n    .dataframe tbody tr th:only-of-type {\n        vertical-align: middle;\n    }\n\n    .dataframe tbody tr th {\n        vertical-align: top;\n    }\n\n    .dataframe thead th {\n        text-align: right;\n    }\n</style>\n<table border=\"1\" class=\"dataframe\">\n  <thead>\n    <tr style=\"text-align: right;\">\n      <th></th>\n      <th>x</th>\n      <th>y</th>\n    </tr>\n  </thead>\n  <tbody>\n    <tr>\n      <th>0</th>\n      <td>11</td>\n      <td>63.251989</td>\n    </tr>\n    <tr>\n      <th>1</th>\n      <td>6</td>\n      <td>38.138634</td>\n    </tr>\n    <tr>\n      <th>2</th>\n      <td>6</td>\n      <td>31.843447</td>\n    </tr>\n    <tr>\n      <th>3</th>\n      <td>12</td>\n      <td>66.724621</td>\n    </tr>\n    <tr>\n      <th>4</th>\n      <td>19</td>\n      <td>103.457682</td>\n    </tr>\n  </tbody>\n</table>\n</div>"
     },
     "execution_count": 11,
     "metadata": {},
     "output_type": "execute_result"
    }
   ],
   "source": [
    "df = pd.DataFrame({'x': x, 'y': y})\n",
    "df.head()"
   ]
  },
  {
   "cell_type": "code",
   "execution_count": 12,
   "id": "0273dd63-ac28-44ef-aae6-512e991fac42",
   "metadata": {},
   "outputs": [
    {
     "data": {
      "text/plain": "<matplotlib.collections.PathCollection at 0x1b16c959570>"
     },
     "execution_count": 12,
     "metadata": {},
     "output_type": "execute_result"
    },
    {
     "data": {
      "text/plain": "<Figure size 640x480 with 1 Axes>",
      "image/png": "[encoded data removed]"
     },
     "metadata": {},
     "output_type": "display_data"
    }
   ],
   "source": [
    "plt.scatter(x,y)"
   ]
  },
  {
   "cell_type": "code",
   "execution_count": 13,
   "id": "1019dabd-ec16-4e6d-b6dc-e4d0c1577ab6",
   "metadata": {},
   "outputs": [
    {
     "data": {
      "text/plain": "<class 'statsmodels.iolib.summary.Summary'>\n\"\"\"\n                            OLS Regression Results                            \n==============================================================================\nDep. Variable:                      y   R-squared:                       0.979\nModel:                            OLS   Adj. R-squared:                  0.978\nMethod:                 Least Squares   F-statistic:                     2213.\nDate:                Wed, 17 May 2023   Prob (F-statistic):           8.16e-42\nTime:                        11:06:39   Log-Likelihood:                -155.41\nNo. Observations:                  50   AIC:                             314.8\nDf Residuals:                      48   BIC:                             318.7\nDf Model:                           1                                         \nCovariance Type:            nonrobust                                         \n==============================================================================\n                 coef    std err          t      P>|t|      [0.025      0.975]\n------------------------------------------------------------------------------\nIntercept      3.2300      1.541      2.097      0.041       0.133       6.328\nx              4.8936      0.104     47.038      0.000       4.684       5.103\n==============================================================================\nOmnibus:                        2.308   Durbin-Watson:                   2.005\nProb(Omnibus):                  0.315   Jarque-Bera (JB):                1.888\nSkew:                          -0.476   Prob(JB):                        0.389\nKurtosis:                       2.959   Cond. No.                         29.3\n==============================================================================\n\nNotes:\n[1] Standard Errors assume that the covariance matrix of the errors is correctly specified.\n\"\"\"",
      "text/html": "<table class=\"simpletable\">\n<caption>OLS Regression Results</caption>\n<tr>\n  <th>Dep. Variable:</th>            <td>y</td>        <th>  R-squared:         </th> <td>   0.979</td>\n</tr>\n<tr>\n  <th>Model:</th>                   <td>OLS</td>       <th>  Adj. R-squared:    </th> <td>   0.978</td>\n</tr>\n<tr>\n  <th>Method:</th>             <td>Least Squares</td>  <th>  F-statistic:       </th> <td>   2213.</td>\n</tr>\n<tr>\n  <th>Date:</th>             <td>Wed, 17 May 2023</td> <th>  Prob (F-statistic):</th> <td>8.16e-42</td>\n</tr>\n<tr>\n  <th>Time:</th>                 <td>11:06:39</td>     <th>  Log-Likelihood:    </th> <td> -155.41</td>\n</tr>\n<tr>\n  <th>No. Observations:</th>      <td>    50</td>      <th>  AIC:               </th> <td>   314.8</td>\n</tr>\n<tr>\n  <th>Df Residuals:</th>          <td>    48</td>      <th>  BIC:               </th> <td>   318.7</td>\n</tr>\n<tr>\n  <th>Df Model:</th>              <td>     1</td>      <th>                     </th>     <td> </td>   \n</tr>\n<tr>\n  <th>Covariance Type:</th>      <td>nonrobust</td>    <th>                     </th>     <td> </td>   \n</tr>\n</table>\n<table class=\"simpletable\">\n<tr>\n      <td></td>         <th>coef</th>     <th>std err</th>      <th>t</th>      <th>P>|t|</th>  <th>[0.025</th>    <th>0.975]</th>  \n</tr>\n<tr>\n  <th>Intercept</th> <td>    3.2300</td> <td>    1.541</td> <td>    2.097</td> <td> 0.041</td> <td>    0.133</td> <td>    6.328</td>\n</tr>\n<tr>\n  <th>x</th>         <td>    4.8936</td> <td>    0.104</td> <td>   47.038</td> <td> 0.000</td> <td>    4.684</td> <td>    5.103</td>\n</tr>\n</table>\n<table class=\"simpletable\">\n<tr>\n  <th>Omnibus:</th>       <td> 2.308</td> <th>  Durbin-Watson:     </th> <td>   2.005</td>\n</tr>\n<tr>\n  <th>Prob(Omnibus):</th> <td> 0.315</td> <th>  Jarque-Bera (JB):  </th> <td>   1.888</td>\n</tr>\n<tr>\n  <th>Skew:</th>          <td>-0.476</td> <th>  Prob(JB):          </th> <td>   0.389</td>\n</tr>\n<tr>\n  <th>Kurtosis:</th>      <td> 2.959</td> <th>  Cond. No.          </th> <td>    29.3</td>\n</tr>\n</table><br/><br/>Notes:<br/>[1] Standard Errors assume that the covariance matrix of the errors is correctly specified."
     },
     "execution_count": 13,
     "metadata": {},
     "output_type": "execute_result"
    }
   ],
   "source": [
    "results = smf.ols('y ~ x', data=df).fit()\n",
    "results.summary()"
   ]
  },
  {
   "cell_type": "code",
   "execution_count": 14,
   "id": "476bd775-3f0b-4ada-9c3f-16d5531be245",
   "metadata": {},
   "outputs": [
    {
     "data": {
      "text/plain": "<function matplotlib.pyplot.show(close=None, block=None)>"
     },
     "execution_count": 14,
     "metadata": {},
     "output_type": "execute_result"
    },
    {
     "data": {
      "text/plain": "<Figure size 640x480 with 1 Axes>",
      "image/png": "[encoded data removed]"
     },
     "metadata": {},
     "output_type": "display_data"
    }
   ],
   "source": [
    "fig = sm.graphics.abline_plot(model_results=results)\n",
    "ax = fig.axes[0]\n",
    "ax.scatter(df['x'], df['y'])\n",
    "plt.show"
   ]
  },
  {
   "cell_type": "markdown",
   "id": "ae105754-d8db-4780-b3a9-d6f0dfbba07d",
   "metadata": {},
   "source": [
    "#### What would happen if we shrunk the standard deviation of the noise?"
   ]
  },
  {
   "cell_type": "code",
   "execution_count": 14,
   "id": "e1adec5b-c491-424b-8a3b-023c8b15b3f6",
   "metadata": {},
   "outputs": [],
   "source": []
  },
  {
   "cell_type": "markdown",
   "id": "a8b74796-0003-407c-bdb4-d497b57a0d57",
   "metadata": {},
   "source": [
    "## Here is an example with some real data"
   ]
  },
  {
   "cell_type": "code",
   "execution_count": 15,
   "id": "12221c16-0849-45a0-8870-c0fb6954e184",
   "metadata": {},
   "outputs": [
    {
     "ename": "FileNotFoundError",
     "evalue": "[Errno 2] No such file or directory: '/Users/sharad/Courses/DATA_5600/Data/Metro_invt_fs_uc_sfrcondo_sm_month.csv'",
     "output_type": "error",
     "traceback": [
      "\u001B[1;31m---------------------------------------------------------------------------\u001B[0m",
      "\u001B[1;31mFileNotFoundError\u001B[0m                         Traceback (most recent call last)",
      "Cell \u001B[1;32mIn[15], line 1\u001B[0m\n\u001B[1;32m----> 1\u001B[0m inventory_df \u001B[38;5;241m=\u001B[39m \u001B[43mpd\u001B[49m\u001B[38;5;241;43m.\u001B[39;49m\u001B[43mread_csv\u001B[49m\u001B[43m(\u001B[49m\u001B[38;5;124;43m'\u001B[39;49m\u001B[38;5;124;43m/Users/sharad/Courses/DATA_5600/Data/Metro_invt_fs_uc_sfrcondo_sm_month.csv\u001B[39;49m\u001B[38;5;124;43m'\u001B[39;49m\u001B[43m)\u001B[49m\n\u001B[0;32m      2\u001B[0m inventory_df\u001B[38;5;241m.\u001B[39mhead()\n",
      "File \u001B[1;32m~\\AppData\\Local\\Programs\\Python\\Python310\\lib\\site-packages\\pandas\\util\\_decorators.py:311\u001B[0m, in \u001B[0;36mdeprecate_nonkeyword_arguments.<locals>.decorate.<locals>.wrapper\u001B[1;34m(*args, **kwargs)\u001B[0m\n\u001B[0;32m    305\u001B[0m \u001B[38;5;28;01mif\u001B[39;00m \u001B[38;5;28mlen\u001B[39m(args) \u001B[38;5;241m>\u001B[39m num_allow_args:\n\u001B[0;32m    306\u001B[0m     warnings\u001B[38;5;241m.\u001B[39mwarn(\n\u001B[0;32m    307\u001B[0m         msg\u001B[38;5;241m.\u001B[39mformat(arguments\u001B[38;5;241m=\u001B[39marguments),\n\u001B[0;32m    308\u001B[0m         \u001B[38;5;167;01mFutureWarning\u001B[39;00m,\n\u001B[0;32m    309\u001B[0m         stacklevel\u001B[38;5;241m=\u001B[39mstacklevel,\n\u001B[0;32m    310\u001B[0m     )\n\u001B[1;32m--> 311\u001B[0m \u001B[38;5;28;01mreturn\u001B[39;00m func(\u001B[38;5;241m*\u001B[39margs, \u001B[38;5;241m*\u001B[39m\u001B[38;5;241m*\u001B[39mkwargs)\n",
      "File \u001B[1;32m~\\AppData\\Local\\Programs\\Python\\Python310\\lib\\site-packages\\pandas\\io\\parsers\\readers.py:678\u001B[0m, in \u001B[0;36mread_csv\u001B[1;34m(filepath_or_buffer, sep, delimiter, header, names, index_col, usecols, squeeze, prefix, mangle_dupe_cols, dtype, engine, converters, true_values, false_values, skipinitialspace, skiprows, skipfooter, nrows, na_values, keep_default_na, na_filter, verbose, skip_blank_lines, parse_dates, infer_datetime_format, keep_date_col, date_parser, dayfirst, cache_dates, iterator, chunksize, compression, thousands, decimal, lineterminator, quotechar, quoting, doublequote, escapechar, comment, encoding, encoding_errors, dialect, error_bad_lines, warn_bad_lines, on_bad_lines, delim_whitespace, low_memory, memory_map, float_precision, storage_options)\u001B[0m\n\u001B[0;32m    663\u001B[0m kwds_defaults \u001B[38;5;241m=\u001B[39m _refine_defaults_read(\n\u001B[0;32m    664\u001B[0m     dialect,\n\u001B[0;32m    665\u001B[0m     delimiter,\n\u001B[1;32m   (...)\u001B[0m\n\u001B[0;32m    674\u001B[0m     defaults\u001B[38;5;241m=\u001B[39m{\u001B[38;5;124m\"\u001B[39m\u001B[38;5;124mdelimiter\u001B[39m\u001B[38;5;124m\"\u001B[39m: \u001B[38;5;124m\"\u001B[39m\u001B[38;5;124m,\u001B[39m\u001B[38;5;124m\"\u001B[39m},\n\u001B[0;32m    675\u001B[0m )\n\u001B[0;32m    676\u001B[0m kwds\u001B[38;5;241m.\u001B[39mupdate(kwds_defaults)\n\u001B[1;32m--> 678\u001B[0m \u001B[38;5;28;01mreturn\u001B[39;00m \u001B[43m_read\u001B[49m\u001B[43m(\u001B[49m\u001B[43mfilepath_or_buffer\u001B[49m\u001B[43m,\u001B[49m\u001B[43m \u001B[49m\u001B[43mkwds\u001B[49m\u001B[43m)\u001B[49m\n",
      "File \u001B[1;32m~\\AppData\\Local\\Programs\\Python\\Python310\\lib\\site-packages\\pandas\\io\\parsers\\readers.py:575\u001B[0m, in \u001B[0;36m_read\u001B[1;34m(filepath_or_buffer, kwds)\u001B[0m\n\u001B[0;32m    572\u001B[0m _validate_names(kwds\u001B[38;5;241m.\u001B[39mget(\u001B[38;5;124m\"\u001B[39m\u001B[38;5;124mnames\u001B[39m\u001B[38;5;124m\"\u001B[39m, \u001B[38;5;28;01mNone\u001B[39;00m))\n\u001B[0;32m    574\u001B[0m \u001B[38;5;66;03m# Create the parser.\u001B[39;00m\n\u001B[1;32m--> 575\u001B[0m parser \u001B[38;5;241m=\u001B[39m TextFileReader(filepath_or_buffer, \u001B[38;5;241m*\u001B[39m\u001B[38;5;241m*\u001B[39mkwds)\n\u001B[0;32m    577\u001B[0m \u001B[38;5;28;01mif\u001B[39;00m chunksize \u001B[38;5;129;01mor\u001B[39;00m iterator:\n\u001B[0;32m    578\u001B[0m     \u001B[38;5;28;01mreturn\u001B[39;00m parser\n",
      "File \u001B[1;32m~\\AppData\\Local\\Programs\\Python\\Python310\\lib\\site-packages\\pandas\\io\\parsers\\readers.py:932\u001B[0m, in \u001B[0;36mTextFileReader.__init__\u001B[1;34m(self, f, engine, **kwds)\u001B[0m\n\u001B[0;32m    929\u001B[0m     \u001B[38;5;28mself\u001B[39m\u001B[38;5;241m.\u001B[39moptions[\u001B[38;5;124m\"\u001B[39m\u001B[38;5;124mhas_index_names\u001B[39m\u001B[38;5;124m\"\u001B[39m] \u001B[38;5;241m=\u001B[39m kwds[\u001B[38;5;124m\"\u001B[39m\u001B[38;5;124mhas_index_names\u001B[39m\u001B[38;5;124m\"\u001B[39m]\n\u001B[0;32m    931\u001B[0m \u001B[38;5;28mself\u001B[39m\u001B[38;5;241m.\u001B[39mhandles: IOHandles \u001B[38;5;241m|\u001B[39m \u001B[38;5;28;01mNone\u001B[39;00m \u001B[38;5;241m=\u001B[39m \u001B[38;5;28;01mNone\u001B[39;00m\n\u001B[1;32m--> 932\u001B[0m \u001B[38;5;28mself\u001B[39m\u001B[38;5;241m.\u001B[39m_engine \u001B[38;5;241m=\u001B[39m \u001B[38;5;28;43mself\u001B[39;49m\u001B[38;5;241;43m.\u001B[39;49m\u001B[43m_make_engine\u001B[49m\u001B[43m(\u001B[49m\u001B[43mf\u001B[49m\u001B[43m,\u001B[49m\u001B[43m \u001B[49m\u001B[38;5;28;43mself\u001B[39;49m\u001B[38;5;241;43m.\u001B[39;49m\u001B[43mengine\u001B[49m\u001B[43m)\u001B[49m\n",
      "File \u001B[1;32m~\\AppData\\Local\\Programs\\Python\\Python310\\lib\\site-packages\\pandas\\io\\parsers\\readers.py:1216\u001B[0m, in \u001B[0;36mTextFileReader._make_engine\u001B[1;34m(self, f, engine)\u001B[0m\n\u001B[0;32m   1212\u001B[0m     mode \u001B[38;5;241m=\u001B[39m \u001B[38;5;124m\"\u001B[39m\u001B[38;5;124mrb\u001B[39m\u001B[38;5;124m\"\u001B[39m\n\u001B[0;32m   1213\u001B[0m \u001B[38;5;66;03m# error: No overload variant of \"get_handle\" matches argument types\u001B[39;00m\n\u001B[0;32m   1214\u001B[0m \u001B[38;5;66;03m# \"Union[str, PathLike[str], ReadCsvBuffer[bytes], ReadCsvBuffer[str]]\"\u001B[39;00m\n\u001B[0;32m   1215\u001B[0m \u001B[38;5;66;03m# , \"str\", \"bool\", \"Any\", \"Any\", \"Any\", \"Any\", \"Any\"\u001B[39;00m\n\u001B[1;32m-> 1216\u001B[0m \u001B[38;5;28mself\u001B[39m\u001B[38;5;241m.\u001B[39mhandles \u001B[38;5;241m=\u001B[39m \u001B[43mget_handle\u001B[49m\u001B[43m(\u001B[49m\u001B[43m  \u001B[49m\u001B[38;5;66;43;03m# type: ignore[call-overload]\u001B[39;49;00m\n\u001B[0;32m   1217\u001B[0m \u001B[43m    \u001B[49m\u001B[43mf\u001B[49m\u001B[43m,\u001B[49m\n\u001B[0;32m   1218\u001B[0m \u001B[43m    \u001B[49m\u001B[43mmode\u001B[49m\u001B[43m,\u001B[49m\n\u001B[0;32m   1219\u001B[0m \u001B[43m    \u001B[49m\u001B[43mencoding\u001B[49m\u001B[38;5;241;43m=\u001B[39;49m\u001B[38;5;28;43mself\u001B[39;49m\u001B[38;5;241;43m.\u001B[39;49m\u001B[43moptions\u001B[49m\u001B[38;5;241;43m.\u001B[39;49m\u001B[43mget\u001B[49m\u001B[43m(\u001B[49m\u001B[38;5;124;43m\"\u001B[39;49m\u001B[38;5;124;43mencoding\u001B[39;49m\u001B[38;5;124;43m\"\u001B[39;49m\u001B[43m,\u001B[49m\u001B[43m \u001B[49m\u001B[38;5;28;43;01mNone\u001B[39;49;00m\u001B[43m)\u001B[49m\u001B[43m,\u001B[49m\n\u001B[0;32m   1220\u001B[0m \u001B[43m    \u001B[49m\u001B[43mcompression\u001B[49m\u001B[38;5;241;43m=\u001B[39;49m\u001B[38;5;28;43mself\u001B[39;49m\u001B[38;5;241;43m.\u001B[39;49m\u001B[43moptions\u001B[49m\u001B[38;5;241;43m.\u001B[39;49m\u001B[43mget\u001B[49m\u001B[43m(\u001B[49m\u001B[38;5;124;43m\"\u001B[39;49m\u001B[38;5;124;43mcompression\u001B[39;49m\u001B[38;5;124;43m\"\u001B[39;49m\u001B[43m,\u001B[49m\u001B[43m \u001B[49m\u001B[38;5;28;43;01mNone\u001B[39;49;00m\u001B[43m)\u001B[49m\u001B[43m,\u001B[49m\n\u001B[0;32m   1221\u001B[0m \u001B[43m    \u001B[49m\u001B[43mmemory_map\u001B[49m\u001B[38;5;241;43m=\u001B[39;49m\u001B[38;5;28;43mself\u001B[39;49m\u001B[38;5;241;43m.\u001B[39;49m\u001B[43moptions\u001B[49m\u001B[38;5;241;43m.\u001B[39;49m\u001B[43mget\u001B[49m\u001B[43m(\u001B[49m\u001B[38;5;124;43m\"\u001B[39;49m\u001B[38;5;124;43mmemory_map\u001B[39;49m\u001B[38;5;124;43m\"\u001B[39;49m\u001B[43m,\u001B[49m\u001B[43m \u001B[49m\u001B[38;5;28;43;01mFalse\u001B[39;49;00m\u001B[43m)\u001B[49m\u001B[43m,\u001B[49m\n\u001B[0;32m   1222\u001B[0m \u001B[43m    \u001B[49m\u001B[43mis_text\u001B[49m\u001B[38;5;241;43m=\u001B[39;49m\u001B[43mis_text\u001B[49m\u001B[43m,\u001B[49m\n\u001B[0;32m   1223\u001B[0m \u001B[43m    \u001B[49m\u001B[43merrors\u001B[49m\u001B[38;5;241;43m=\u001B[39;49m\u001B[38;5;28;43mself\u001B[39;49m\u001B[38;5;241;43m.\u001B[39;49m\u001B[43moptions\u001B[49m\u001B[38;5;241;43m.\u001B[39;49m\u001B[43mget\u001B[49m\u001B[43m(\u001B[49m\u001B[38;5;124;43m\"\u001B[39;49m\u001B[38;5;124;43mencoding_errors\u001B[39;49m\u001B[38;5;124;43m\"\u001B[39;49m\u001B[43m,\u001B[49m\u001B[43m \u001B[49m\u001B[38;5;124;43m\"\u001B[39;49m\u001B[38;5;124;43mstrict\u001B[39;49m\u001B[38;5;124;43m\"\u001B[39;49m\u001B[43m)\u001B[49m\u001B[43m,\u001B[49m\n\u001B[0;32m   1224\u001B[0m \u001B[43m    \u001B[49m\u001B[43mstorage_options\u001B[49m\u001B[38;5;241;43m=\u001B[39;49m\u001B[38;5;28;43mself\u001B[39;49m\u001B[38;5;241;43m.\u001B[39;49m\u001B[43moptions\u001B[49m\u001B[38;5;241;43m.\u001B[39;49m\u001B[43mget\u001B[49m\u001B[43m(\u001B[49m\u001B[38;5;124;43m\"\u001B[39;49m\u001B[38;5;124;43mstorage_options\u001B[39;49m\u001B[38;5;124;43m\"\u001B[39;49m\u001B[43m,\u001B[49m\u001B[43m \u001B[49m\u001B[38;5;28;43;01mNone\u001B[39;49;00m\u001B[43m)\u001B[49m\u001B[43m,\u001B[49m\n\u001B[0;32m   1225\u001B[0m \u001B[43m\u001B[49m\u001B[43m)\u001B[49m\n\u001B[0;32m   1226\u001B[0m \u001B[38;5;28;01massert\u001B[39;00m \u001B[38;5;28mself\u001B[39m\u001B[38;5;241m.\u001B[39mhandles \u001B[38;5;129;01mis\u001B[39;00m \u001B[38;5;129;01mnot\u001B[39;00m \u001B[38;5;28;01mNone\u001B[39;00m\n\u001B[0;32m   1227\u001B[0m f \u001B[38;5;241m=\u001B[39m \u001B[38;5;28mself\u001B[39m\u001B[38;5;241m.\u001B[39mhandles\u001B[38;5;241m.\u001B[39mhandle\n",
      "File \u001B[1;32m~\\AppData\\Local\\Programs\\Python\\Python310\\lib\\site-packages\\pandas\\io\\common.py:786\u001B[0m, in \u001B[0;36mget_handle\u001B[1;34m(path_or_buf, mode, encoding, compression, memory_map, is_text, errors, storage_options)\u001B[0m\n\u001B[0;32m    781\u001B[0m \u001B[38;5;28;01melif\u001B[39;00m \u001B[38;5;28misinstance\u001B[39m(handle, \u001B[38;5;28mstr\u001B[39m):\n\u001B[0;32m    782\u001B[0m     \u001B[38;5;66;03m# Check whether the filename is to be opened in binary mode.\u001B[39;00m\n\u001B[0;32m    783\u001B[0m     \u001B[38;5;66;03m# Binary mode does not support 'encoding' and 'newline'.\u001B[39;00m\n\u001B[0;32m    784\u001B[0m     \u001B[38;5;28;01mif\u001B[39;00m ioargs\u001B[38;5;241m.\u001B[39mencoding \u001B[38;5;129;01mand\u001B[39;00m \u001B[38;5;124m\"\u001B[39m\u001B[38;5;124mb\u001B[39m\u001B[38;5;124m\"\u001B[39m \u001B[38;5;129;01mnot\u001B[39;00m \u001B[38;5;129;01min\u001B[39;00m ioargs\u001B[38;5;241m.\u001B[39mmode:\n\u001B[0;32m    785\u001B[0m         \u001B[38;5;66;03m# Encoding\u001B[39;00m\n\u001B[1;32m--> 786\u001B[0m         handle \u001B[38;5;241m=\u001B[39m \u001B[38;5;28;43mopen\u001B[39;49m\u001B[43m(\u001B[49m\n\u001B[0;32m    787\u001B[0m \u001B[43m            \u001B[49m\u001B[43mhandle\u001B[49m\u001B[43m,\u001B[49m\n\u001B[0;32m    788\u001B[0m \u001B[43m            \u001B[49m\u001B[43mioargs\u001B[49m\u001B[38;5;241;43m.\u001B[39;49m\u001B[43mmode\u001B[49m\u001B[43m,\u001B[49m\n\u001B[0;32m    789\u001B[0m \u001B[43m            \u001B[49m\u001B[43mencoding\u001B[49m\u001B[38;5;241;43m=\u001B[39;49m\u001B[43mioargs\u001B[49m\u001B[38;5;241;43m.\u001B[39;49m\u001B[43mencoding\u001B[49m\u001B[43m,\u001B[49m\n\u001B[0;32m    790\u001B[0m \u001B[43m            \u001B[49m\u001B[43merrors\u001B[49m\u001B[38;5;241;43m=\u001B[39;49m\u001B[43merrors\u001B[49m\u001B[43m,\u001B[49m\n\u001B[0;32m    791\u001B[0m \u001B[43m            \u001B[49m\u001B[43mnewline\u001B[49m\u001B[38;5;241;43m=\u001B[39;49m\u001B[38;5;124;43m\"\u001B[39;49m\u001B[38;5;124;43m\"\u001B[39;49m\u001B[43m,\u001B[49m\n\u001B[0;32m    792\u001B[0m \u001B[43m        \u001B[49m\u001B[43m)\u001B[49m\n\u001B[0;32m    793\u001B[0m     \u001B[38;5;28;01melse\u001B[39;00m:\n\u001B[0;32m    794\u001B[0m         \u001B[38;5;66;03m# Binary mode\u001B[39;00m\n\u001B[0;32m    795\u001B[0m         handle \u001B[38;5;241m=\u001B[39m \u001B[38;5;28mopen\u001B[39m(handle, ioargs\u001B[38;5;241m.\u001B[39mmode)\n",
      "\u001B[1;31mFileNotFoundError\u001B[0m: [Errno 2] No such file or directory: '/Users/sharad/Courses/DATA_5600/Data/Metro_invt_fs_uc_sfrcondo_sm_month.csv'"
     ]
    }
   ],
   "source": [
    "inventory_df = pd.read_csv('/Users/sharad/Courses/DATA_5600/Data/Metro_invt_fs_uc_sfrcondo_sm_month.csv')\n",
    "inventory_df.head()"
   ]
  },
  {
   "cell_type": "code",
   "execution_count": null,
   "id": "f3632c66-9ba6-485c-9d5b-f06941254deb",
   "metadata": {},
   "outputs": [],
   "source": [
    "inventory_df[inventory_df['StateName'].isin(['UT'])]"
   ]
  },
  {
   "cell_type": "code",
   "execution_count": null,
   "id": "7be157da-9c03-448c-8c8a-3780d5c5ae80",
   "metadata": {},
   "outputs": [],
   "source": [
    "slc_inventory = inventory_df[inventory_df['RegionName'].isin(['Salt Lake City, UT'])]\n",
    "slc_inventory"
   ]
  },
  {
   "cell_type": "code",
   "execution_count": null,
   "id": "2f277383-da5e-4dc4-93f1-cf2b19e6616b",
   "metadata": {},
   "outputs": [],
   "source": [
    "sale_to_list_df = pd.read_csv('/Users/sharad/Courses/DATA_5600/Data/Metro_mean_sale_to_list_uc_sfrcondo_month.csv')\n",
    "sale_to_list_df.head()"
   ]
  },
  {
   "cell_type": "code",
   "execution_count": null,
   "id": "4706e001-d36f-4879-8d8b-46cb4442b860",
   "metadata": {},
   "outputs": [],
   "source": [
    "slc_stol = sale_to_list_df[sale_to_list_df['RegionName'].isin(['Salt Lake City, UT'])]\n",
    "slc_stol"
   ]
  },
  {
   "cell_type": "code",
   "execution_count": null,
   "id": "c5d66cea-81fa-4f0f-a5a1-ecc005d18f5c",
   "metadata": {},
   "outputs": [],
   "source": [
    "slc_stol = slc_stol.transpose()\n",
    "slc_inventory = slc_inventory.transpose()\n",
    "\n",
    "slc_stol.head(10)"
   ]
  },
  {
   "cell_type": "code",
   "execution_count": null,
   "id": "61a06b2d-ef11-488e-8497-9e3f304bea5b",
   "metadata": {},
   "outputs": [],
   "source": [
    "slc_stol = slc_stol.iloc[5:,:]\n",
    "slc_inventory = slc_inventory.iloc[5:,:]\n",
    "slc_inventory.head()"
   ]
  },
  {
   "cell_type": "code",
   "execution_count": null,
   "id": "bbb97ee7-e5b5-4063-8244-dbae3e0631ee",
   "metadata": {},
   "outputs": [],
   "source": [
    "slc_stol.head()"
   ]
  },
  {
   "cell_type": "code",
   "execution_count": null,
   "id": "ec918f7f-c1ce-486b-b541-8b42dbba6df1",
   "metadata": {},
   "outputs": [],
   "source": [
    "slc_inventory.set_axis(['inventory'], axis=1, inplace=True)\n",
    "\n",
    "slc_stol.set_axis(['sale_to_list_ratio'], axis=1, inplace=True)\n",
    "\n",
    "slc_inventory.head()"
   ]
  },
  {
   "cell_type": "code",
   "execution_count": null,
   "id": "7d7737b6-c403-412f-aa95-d85a5b5e3e2e",
   "metadata": {},
   "outputs": [],
   "source": [
    "slc_inventory.reset_index(inplace=True)\n",
    "slc_inventory = slc_inventory.rename(columns = {'index':'month'})\n",
    "\n",
    "slc_stol.reset_index(inplace=True)\n",
    "slc_stol = slc_stol.rename(columns = {'index':'month'})\n",
    "\n",
    "slc_inventory.head()"
   ]
  },
  {
   "cell_type": "code",
   "execution_count": null,
   "id": "ae9fe06d-96ad-4185-a23f-68a09d074b3f",
   "metadata": {},
   "outputs": [],
   "source": [
    "slc_stol.head()"
   ]
  },
  {
   "cell_type": "code",
   "execution_count": 18,
   "id": "deaecd69-99fa-4d33-9d92-fb740c6324c4",
   "metadata": {},
   "outputs": [
    {
     "ename": "NameError",
     "evalue": "name 'slc_inventory' is not defined",
     "output_type": "error",
     "traceback": [
      "\u001B[1;31m---------------------------------------------------------------------------\u001B[0m",
      "\u001B[1;31mNameError\u001B[0m                                 Traceback (most recent call last)",
      "Cell \u001B[1;32mIn[18], line 1\u001B[0m\n\u001B[1;32m----> 1\u001B[0m slc_housing \u001B[38;5;241m=\u001B[39m \u001B[43mslc_inventory\u001B[49m\u001B[38;5;241m.\u001B[39mmerge(slc_stol, on \u001B[38;5;241m=\u001B[39m \u001B[38;5;124m'\u001B[39m\u001B[38;5;124mmonth\u001B[39m\u001B[38;5;124m'\u001B[39m)\n\u001B[0;32m      2\u001B[0m slc_housing\u001B[38;5;241m.\u001B[39mhead()\n",
      "\u001B[1;31mNameError\u001B[0m: name 'slc_inventory' is not defined"
     ]
    }
   ],
   "source": [
    "slc_housing = slc_inventory.merge(slc_stol, on = 'month')\n",
    "slc_housing.head()"
   ]
  },
  {
   "cell_type": "code",
   "execution_count": null,
   "id": "01c34e5c-8b63-44c5-ad2f-92353f1ea830",
   "metadata": {},
   "outputs": [],
   "source": [
    "slc_housing.shape"
   ]
  },
  {
   "cell_type": "code",
   "execution_count": null,
   "id": "3cd871fc-cede-4ea9-b8f1-7f5a453ea498",
   "metadata": {},
   "outputs": [],
   "source": [
    "slc_housing.dropna(inplace = True)\n",
    "slc_housing.shape"
   ]
  },
  {
   "cell_type": "code",
   "execution_count": null,
   "id": "b6c549e4-d496-4f12-8a29-fe7b68770898",
   "metadata": {},
   "outputs": [],
   "source": [
    "plt.scatter(slc_housing['inventory'], slc_housing['sale_to_list_ratio'])"
   ]
  },
  {
   "cell_type": "code",
   "execution_count": 17,
   "id": "5706be4a-0424-46f6-a180-f039dade9b21",
   "metadata": {},
   "outputs": [
    {
     "ename": "NameError",
     "evalue": "name 'slc_housing' is not defined",
     "output_type": "error",
     "traceback": [
      "\u001B[1;31m---------------------------------------------------------------------------\u001B[0m",
      "\u001B[1;31mNameError\u001B[0m                                 Traceback (most recent call last)",
      "Cell \u001B[1;32mIn[17], line 1\u001B[0m\n\u001B[1;32m----> 1\u001B[0m \u001B[43mslc_housing\u001B[49m\u001B[38;5;241m.\u001B[39minfo()\n",
      "\u001B[1;31mNameError\u001B[0m: name 'slc_housing' is not defined"
     ]
    }
   ],
   "source": [
    "slc_housing.info()"
   ]
  },
  {
   "cell_type": "code",
   "execution_count": 16,
   "id": "fd515079-1b88-4e76-9683-eec4733e487c",
   "metadata": {},
   "outputs": [
    {
     "ename": "NameError",
     "evalue": "name 'slc_housing' is not defined",
     "output_type": "error",
     "traceback": [
      "\u001B[1;31m---------------------------------------------------------------------------\u001B[0m",
      "\u001B[1;31mNameError\u001B[0m                                 Traceback (most recent call last)",
      "Cell \u001B[1;32mIn[16], line 1\u001B[0m\n\u001B[1;32m----> 1\u001B[0m slc_housing[\u001B[38;5;124m\"\u001B[39m\u001B[38;5;124minventory\u001B[39m\u001B[38;5;124m\"\u001B[39m] \u001B[38;5;241m=\u001B[39m pd\u001B[38;5;241m.\u001B[39mto_numeric(\u001B[43mslc_housing\u001B[49m[\u001B[38;5;124m\"\u001B[39m\u001B[38;5;124minventory\u001B[39m\u001B[38;5;124m\"\u001B[39m])\n\u001B[0;32m      2\u001B[0m slc_housing[\u001B[38;5;124m\"\u001B[39m\u001B[38;5;124msale_to_list_ratio\u001B[39m\u001B[38;5;124m\"\u001B[39m] \u001B[38;5;241m=\u001B[39m pd\u001B[38;5;241m.\u001B[39mto_numeric(slc_housing[\u001B[38;5;124m\"\u001B[39m\u001B[38;5;124msale_to_list_ratio\u001B[39m\u001B[38;5;124m\"\u001B[39m])\n\u001B[0;32m      3\u001B[0m slc_housing\u001B[38;5;241m.\u001B[39minfo()\n",
      "\u001B[1;31mNameError\u001B[0m: name 'slc_housing' is not defined"
     ]
    }
   ],
   "source": [
    "slc_housing[\"inventory\"] = pd.to_numeric(slc_housing[\"inventory\"])\n",
    "slc_housing[\"sale_to_list_ratio\"] = pd.to_numeric(slc_housing[\"sale_to_list_ratio\"])\n",
    "slc_housing.info()"
   ]
  },
  {
   "cell_type": "code",
   "execution_count": null,
   "id": "562edf32-b782-4056-9c4b-5124d02379a5",
   "metadata": {},
   "outputs": [],
   "source": [
    "results = smf.ols('sale_to_list_ratio ~ inventory', data=slc_housing).fit()\n",
    "results.summary()"
   ]
  },
  {
   "cell_type": "code",
   "execution_count": null,
   "id": "899dd0a4-bcbe-46e1-b0d5-d3154f21a34b",
   "metadata": {},
   "outputs": [],
   "source": [
    "fig = sm.graphics.abline_plot(model_results=results)\n",
    "ax = fig.axes[0]\n",
    "ax.scatter(slc_housing['inventory'], slc_housing['sale_to_list_ratio'])\n",
    "plt.show()"
   ]
  },
  {
   "cell_type": "code",
   "execution_count": null,
   "id": "3f6f894a-ad7e-43a5-8497-65f05bae5fe8",
   "metadata": {},
   "outputs": [],
   "source": [
    "slc_housing['inventory_norm'] = (slc_housing['inventory'] - slc_housing['inventory'].mean())/slc_housing['inventory'].std()\n",
    "slc_housing['sale_to_list_ratio_norm'] = (slc_housing['sale_to_list_ratio'] - slc_housing['sale_to_list_ratio'].mean())/slc_housing['sale_to_list_ratio'].std()\n",
    "\n",
    "slc_housing.head()"
   ]
  },
  {
   "cell_type": "code",
   "execution_count": null,
   "id": "68da2776-0f55-45ff-8d1a-f7dd6c2adeb9",
   "metadata": {},
   "outputs": [],
   "source": [
    "plt.scatter(slc_housing['inventory_norm'], slc_housing['sale_to_list_ratio_norm'])"
   ]
  },
  {
   "cell_type": "code",
   "execution_count": null,
   "id": "259bc28e-fc7a-4a6e-b916-5255aa7c3eff",
   "metadata": {},
   "outputs": [],
   "source": [
    "results = smf.ols('sale_to_list_ratio_norm ~ inventory_norm', data=slc_housing).fit()\n",
    "results.summary()"
   ]
  },
  {
   "cell_type": "markdown",
   "id": "df4c42f1-5a7f-4d72-8627-605a91dbe0bb",
   "metadata": {},
   "source": [
    "## Calculate Coefficients by Hand"
   ]
  },
  {
   "cell_type": "markdown",
   "id": "c0d4801c-3bb4-4af2-a960-618d410534b4",
   "metadata": {},
   "source": [
    "$$\\hat{\\beta}_1=\\frac{\\sum_{i=1}^n (x_i - \\bar{x})(y_i-\\bar{y})}{\\sum_{i=1}^n (x_i - \\bar{x})^2}$$\n",
    "\n",
    "\n",
    "$$\\hat{\\beta}_0=\\bar{y} - \\hat{\\beta}_1 \\bar{x}$$"
   ]
  },
  {
   "cell_type": "code",
   "execution_count": null,
   "id": "db9a7991-fc1e-41a2-98b5-71021a3547e3",
   "metadata": {},
   "outputs": [],
   "source": [
    "xbar = np.mean(slc_housing['inventory_norm'])\n",
    "ybar = np.mean(slc_housing['sale_to_list_ratio_norm'])\n",
    "numerator = np.sum((slc_housing['inventory_norm'] - xbar)*(slc_housing['sale_to_list_ratio_norm'] - ybar))\n",
    "denominator = np.sum((slc_housing['inventory_norm'] - xbar)**2)\n",
    "beta_1 = numerator/denominator\n",
    "beta_1"
   ]
  },
  {
   "cell_type": "code",
   "execution_count": null,
   "id": "6611b75c-c4a3-4041-9749-c127491e3ae1",
   "metadata": {},
   "outputs": [],
   "source": [
    "beta_0 = ybar - beta_1*xbar\n",
    "beta_0"
   ]
  },
  {
   "cell_type": "markdown",
   "id": "c23dfd8f-54b5-46fb-9073-5055492ca6f3",
   "metadata": {},
   "source": [
    "### How would you calculate the SE, confidence interval, and test statistic by hand? (Homework)"
   ]
  },
  {
   "cell_type": "markdown",
   "id": "5f006997-db35-4ab1-859a-dc3a714d8bc1",
   "metadata": {},
   "source": [
    "## Plot Residuals"
   ]
  },
  {
   "cell_type": "code",
   "execution_count": null,
   "id": "baf87368-ee5f-493f-9f59-a751496963a6",
   "metadata": {},
   "outputs": [],
   "source": [
    "results = smf.ols('sale_to_list_ratio_norm ~ inventory_norm', data=slc_housing).fit()\n",
    "\n",
    "fig = plt.figure(figsize=(8, 6))\n",
    "sm.graphics.plot_regress_exog(results, 'inventory_norm', fig=fig)"
   ]
  },
  {
   "cell_type": "code",
   "execution_count": null,
   "id": "04507e20-fc8f-46aa-957c-19bb724703b3",
   "metadata": {},
   "outputs": [],
   "source": []
  }
 ],
 "metadata": {
  "kernelspec": {
   "display_name": "Python 3 (ipykernel)",
   "language": "python",
   "name": "python3"
  },
  "language_info": {
   "codemirror_mode": {
    "name": "ipython",
    "version": 3
   },
   "file_extension": ".py",
   "mimetype": "text/x-python",
   "name": "python",
   "nbconvert_exporter": "python",
   "pygments_lexer": "ipython3",
   "version": "3.8.8"
  }
 },
 "nbformat": 4,
 "nbformat_minor": 5
}
